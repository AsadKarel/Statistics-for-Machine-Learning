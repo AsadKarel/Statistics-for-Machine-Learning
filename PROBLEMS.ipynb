{
 "cells": [
  {
   "cell_type": "code",
   "execution_count": 1,
   "metadata": {},
   "outputs": [
    {
     "name": "stderr",
     "output_type": "stream",
     "text": [
      "C:\\Users\\hi\\Anaconda3\\lib\\site-packages\\statsmodels\\tools\\_testing.py:19: FutureWarning: pandas.util.testing is deprecated. Use the functions in the public API at pandas.testing instead.\n",
      "  import pandas.util.testing as tm\n"
     ]
    }
   ],
   "source": [
    "import numpy as np\n",
    "import pandas as pd\n",
    "import scipy.stats as st\n",
    "import matplotlib.pyplot as plt\n",
    "import seaborn as sns"
   ]
  },
  {
   "cell_type": "markdown",
   "metadata": {},
   "source": [
    "My computer crashes on average once every 4 months;\n",
    "*  What is the probability that it will not crash in a period of 4 months?\n",
    "*  What is the probability that it will crash once in a period of 4 months?\n",
    "*  What is the probability that it will crash twice in a period of 4 months?\n",
    "*  What is the probability that it will crash three times in a period of 4 months?"
   ]
  },
  {
   "cell_type": "code",
   "execution_count": 2,
   "metadata": {},
   "outputs": [
    {
     "name": "stdout",
     "output_type": "stream",
     "text": [
      "0.36787944117144233\n",
      "0.36787944117144233\n",
      "0.18393972058572114\n",
      "0.06131324019524039\n",
      "\n",
      "0.061313240195240315\n",
      "0.06131324019524037\n"
     ]
    }
   ],
   "source": [
    "mean = 1\n",
    "\n",
    "# What is the probability that it will not crash in a period of 4 months?\n",
    "print(st.poisson.pmf(0,mean))\n",
    "\n",
    "# What is the probability that it will crash once in a period of 4 months?\n",
    "print(st.poisson.pmf(1,mean))\n",
    "\n",
    "# What is the probability that it will crash twice in a period of 4 months?\n",
    "print(st.poisson.pmf(2,mean))\n",
    "\n",
    "# What is the probability that it will crash three times in a period of 4 months?\n",
    "print(st.poisson.pmf(3,mean))\n",
    "print()\n",
    "print(st.poisson.cdf(3,mean) - st.poisson.cdf(2,mean))\n",
    "print(st.poisson.sf(2,mean) - st.poisson.sf(3,mean))"
   ]
  },
  {
   "cell_type": "markdown",
   "metadata": {},
   "source": [
    "-------------------"
   ]
  },
  {
   "cell_type": "markdown",
   "metadata": {},
   "source": [
    "A customer help center receives on average 3.5 calls every hour.\n",
    "* What is the probability that it will receive at most 4 calls every hour?\n",
    "* What is the probability that it will receive at least 5 calls every hour?"
   ]
  },
  {
   "cell_type": "code",
   "execution_count": 3,
   "metadata": {},
   "outputs": [
    {
     "name": "stdout",
     "output_type": "stream",
     "text": [
      "0.7254449533096043\n",
      "0.2745550466903957\n"
     ]
    }
   ],
   "source": [
    "mean = 3.5\n",
    "\n",
    "# What is the probability that it will receive at most 4 calls every hour?\n",
    "print(st.poisson.cdf(4,mean))\n",
    "\n",
    "# What is the probability that it will receive at least 5 calls every hour?\n",
    "print(st.poisson.sf(4,mean))"
   ]
  },
  {
   "cell_type": "markdown",
   "metadata": {},
   "source": [
    "-----------------"
   ]
  },
  {
   "cell_type": "markdown",
   "metadata": {},
   "source": [
    "A person receives on average 3 e-mails per hour.\n",
    "* What is the probability that he will receive 5 e-mails over a period two hours?\n",
    "* What is the probability that he will receive more than 2 e-mails over a period two hours?"
   ]
  },
  {
   "cell_type": "code",
   "execution_count": 4,
   "metadata": {},
   "outputs": [
    {
     "name": "stdout",
     "output_type": "stream",
     "text": [
      "0.16062314104797995\n",
      "0.5768099188731564\n"
     ]
    }
   ],
   "source": [
    "mean = 3\n",
    "\n",
    "# What is the probability that he will receive 5 e-mails over a period two hours?\n",
    "print(st.poisson.pmf(5,mean*2))\n",
    "\n",
    "# What is the probability that he will receive more than 2 e-mails over a period two hours?\n",
    "print(1 - st.poisson.cdf(2,mean))"
   ]
  },
  {
   "cell_type": "markdown",
   "metadata": {},
   "source": [
    "------------------"
   ]
  },
  {
   "cell_type": "markdown",
   "metadata": {},
   "source": [
    "The frequency table of the goals scored by a football player in each of his first 35 matches of the seasons is shown below.\n",
    "\n",
    "Goals Scored , x\t0\t1\t2\t3\t> 3\n",
    "Frequency (Matches) , f\t12\t15\t6\t2\t0\n",
    "Assuming that the goals scored may be approximated by a Poisson distribution, find the probability that the player scores\n",
    "* one goal in a given match\n",
    "* at least one goal in a given match"
   ]
  },
  {
   "cell_type": "code",
   "execution_count": 5,
   "metadata": {},
   "outputs": [
    {
     "name": "stdout",
     "output_type": "stream",
     "text": [
      "0.9428571428571428\n",
      "\n",
      " 0.3672554430702411\n",
      " 0.6104866512891381\n"
     ]
    }
   ],
   "source": [
    "x = [0,1,2,3]\n",
    "f = [12,15,6,2]\n",
    "fx = []\n",
    "\n",
    "for i,j in list(zip(x,f)):\n",
    "    fx.append((i*j))\n",
    "    \n",
    "mean = sum(fx)/sum(f)\n",
    "print(mean)\n",
    "\n",
    "# one goal in a given match\n",
    "print('\\n',st.poisson.pmf(1,mean))\n",
    "\n",
    "# at least one goal in a given match\n",
    "print('', st.poisson.sf(0,mean))"
   ]
  },
  {
   "cell_type": "markdown",
   "metadata": {},
   "source": [
    "----------------"
   ]
  },
  {
   "cell_type": "markdown",
   "metadata": {},
   "source": [
    "The number of defective items returned each day, over a period of 100 days, to a shop is shown below.\n",
    "\n",
    "Number of Defective Items, x\t0\t1\t2\t3\t4\t> 4\n",
    "Frequency (days) , f\t50\t20\t15\t10\t5\t0\n",
    "Assuming that the number of defective items may be approximated by a Poisson distribution, find the probability that\n",
    "* no defective item is returned on a given day\n",
    "* three or more defective items are returned on a given day"
   ]
  },
  {
   "cell_type": "code",
   "execution_count": 6,
   "metadata": {},
   "outputs": [
    {
     "name": "stdout",
     "output_type": "stream",
     "text": [
      "1.0\n",
      "\n",
      " 0.36787944117144233\n",
      " 0.01898815687615381\n"
     ]
    }
   ],
   "source": [
    "x = [0,1,2,3,4]\n",
    "f = [50,20,15,10,5]\n",
    "fx = []\n",
    "\n",
    "for p,q in list(zip(x,f)):\n",
    "    fx.append((p*q))\n",
    "    \n",
    "mean = sum(fx)/sum(f)\n",
    "print(mean)\n",
    "\n",
    "# no defective item is returned on a given day\n",
    "print('\\n',st.poisson.pmf(0,mean))\n",
    "\n",
    "# three or more defective items are returned on a given day\n",
    "print('', st.poisson.sf(3,mean))"
   ]
  },
  {
   "cell_type": "markdown",
   "metadata": {},
   "source": [
    "---------------------"
   ]
  },
  {
   "cell_type": "markdown",
   "metadata": {},
   "source": [
    "Customer account of bank avg balanace is Rs 12000, a std deviation of Rs 4000, it is normally distributed. a. What % of accounts is over Rs=15000? b. What % of accounts is b/w 10000 and 15000? c. what % of accounts is b/w 600 and 9000?\n",
    "\n",
    "What is bank balance is that at least 75% of customers have that bank balance?"
   ]
  },
  {
   "cell_type": "code",
   "execution_count": 7,
   "metadata": {},
   "outputs": [
    {
     "name": "stdout",
     "output_type": "stream",
     "text": [
      "0.22662735237686826\n",
      "0.46483510889714486\n",
      "0.22460721488692226 0.2246072148869222\n",
      "9302.040999215673 9302.040999215673\n"
     ]
    }
   ],
   "source": [
    "mean = 12000 ; std = 4000\n",
    "\n",
    "# What % of accounts is over Rs=15000?\n",
    "print(1 - st.norm.cdf(15000,mean,std))\n",
    "\n",
    "#  What % of accounts is b/w 10000 and 15000? \n",
    "print(st.norm.cdf(15000,mean,std)-st.norm.cdf(10000,mean,std))\n",
    "\n",
    "# what % of accounts is b/w 6000 and 9000?\n",
    "print(st.norm.sf(500,mean,std)-st.norm.sf(9000,mean,std), st.norm.cdf(9000,mean,std)-st.norm.cdf(500,mean,std))\n",
    "\n",
    "# What is bank balance is that at least 75% of customers have that bank balance?\n",
    "print(st.norm.isf(0.75,mean,std), st.norm.ppf(0.25,mean,std))"
   ]
  },
  {
   "cell_type": "markdown",
   "metadata": {},
   "source": [
    "---------------------"
   ]
  },
  {
   "cell_type": "markdown",
   "metadata": {},
   "source": [
    "If 5% of the items produced turn out to be defective, then find out the probability that out of 10 items selected at random there are\n",
    "\n",
    "* exactly three defectives\n",
    "\n",
    "* atleast two defectives\n",
    "\n",
    "* exactly 4 defectives\n",
    "\n",
    "* find the mean and variance"
   ]
  },
  {
   "cell_type": "code",
   "execution_count": 8,
   "metadata": {},
   "outputs": [
    {
     "name": "stdout",
     "output_type": "stream",
     "text": [
      "0.010475059441406257\n",
      "0.01150355737929687\n",
      "0.0009648081064453133\n",
      "Mean: 0.5 \n",
      "Vriance: 0.475\n"
     ]
    }
   ],
   "source": [
    "p = 0.05 ; n = 10\n",
    "\n",
    "# exactly three defectives\n",
    "print(st.binom.pmf(3,n,p))\n",
    "\n",
    "# atleast two defectives\n",
    "print(1 - st.binom.cdf(2,n,p))\n",
    "\n",
    "# exactly 4 defectives\n",
    "print(st.binom.pmf(4,n,p))\n",
    "\n",
    "# find the mean and variance\n",
    "print('Mean:',n*p,'\\nVriance:',n*p*(1-p))"
   ]
  },
  {
   "cell_type": "markdown",
   "metadata": {},
   "source": [
    "------------"
   ]
  },
  {
   "cell_type": "markdown",
   "metadata": {},
   "source": [
    "In a family of 3 children, what is the probability that there will be exactly 2 girls?"
   ]
  },
  {
   "cell_type": "code",
   "execution_count": 9,
   "metadata": {},
   "outputs": [
    {
     "name": "stdout",
     "output_type": "stream",
     "text": [
      "0.04394531249999999\n"
     ]
    }
   ],
   "source": [
    "p = 0.5 ; x = 2\n",
    "\n",
    "print(st.binom.pmf(x,n,p))"
   ]
  },
  {
   "cell_type": "markdown",
   "metadata": {},
   "source": [
    "-----------------------"
   ]
  },
  {
   "cell_type": "markdown",
   "metadata": {},
   "source": [
    "Forty percent of business travellers carry a laptop. In a sample of 15 business travelers,\n",
    "\n",
    "* what is the probability that 3 will have a laptop?\n",
    "\n",
    "* what is the probability that 12 of the travelers will not have a laptop?\n",
    "\n",
    "* what is the probability that atleast three of the travelers have a laptop?"
   ]
  },
  {
   "cell_type": "code",
   "execution_count": 10,
   "metadata": {},
   "outputs": [
    {
     "name": "stdout",
     "output_type": "stream",
     "text": [
      "0.06338790162432026\n",
      "0.06338790162432026\n",
      "0.972885999222784 0.972885999222784\n"
     ]
    }
   ],
   "source": [
    "n = 15 ; p = 0.40\n",
    "\n",
    "# what is the probability that 3 will have a laptop?\n",
    "print(st.binom.pmf(3,n,p))\n",
    "\n",
    "# what is the probability that 12 of the travelers will not have a laptop?\n",
    "print(st.binom.pmf((n-12),n,p))\n",
    "\n",
    "# what is the probability that atleast three of the travelers have a laptop?\n",
    "print(1 - st.binom.cdf(2,n,p), st.binom.sf(2,n,p)) "
   ]
  },
  {
   "cell_type": "markdown",
   "metadata": {},
   "source": [
    "-----------------------------"
   ]
  },
  {
   "cell_type": "markdown",
   "metadata": {},
   "source": [
    "Consider five mice from the same litter, all suffering from Vitamin A deficiency. They are fed a certain dose of carrots. The positive reaction means recovery from the disease. Assume that the probability of recovery is 0.73. What is the probability that atleast 3 of the 5 mice recover."
   ]
  },
  {
   "cell_type": "code",
   "execution_count": 11,
   "metadata": {},
   "outputs": [
    {
     "name": "stdout",
     "output_type": "stream",
     "text": [
      "0.8742768058\n"
     ]
    }
   ],
   "source": [
    "n = 5; p = 0.73\n",
    "\n",
    "print(st.binom.sf(2,n,p))"
   ]
  },
  {
   "cell_type": "markdown",
   "metadata": {},
   "source": [
    "--------------------------"
   ]
  },
  {
   "cell_type": "markdown",
   "metadata": {},
   "source": [
    " Among 28 professors of a certain department, 18 drive foreign cars and 10 drive local made cars. If 5 of these professors are selected at random, what is the probability that atleast 3 of them drive foreign cars?\n",
    "\n",
    " "
   ]
  },
  {
   "cell_type": "code",
   "execution_count": 12,
   "metadata": {},
   "outputs": [
    {
     "name": "stdout",
     "output_type": "stream",
     "text": [
      "0.7536368774915214\n"
     ]
    }
   ],
   "source": [
    "n = 5; p = 18/28\n",
    "\n",
    "print(st.binom.sf(2,n,p))"
   ]
  },
  {
   "cell_type": "markdown",
   "metadata": {},
   "source": [
    "--------------"
   ]
  },
  {
   "cell_type": "markdown",
   "metadata": {},
   "source": [
    " Out of 750 families with 4 children each, how many families would be expected to have (i) atleast one boy (ii) atmost 2 girls (iii) and children of both sexes? Assume equal probabilities for boys and girls."
   ]
  },
  {
   "cell_type": "code",
   "execution_count": 13,
   "metadata": {
    "scrolled": true
   },
   "outputs": [
    {
     "name": "stdout",
     "output_type": "stream",
     "text": [
      "703.0\n",
      "516.0\n",
      "562.5\n"
     ]
    }
   ],
   "source": [
    "n = 4; p = 0.5\n",
    "\n",
    "# atleast one boy \n",
    "print(round((1 - st.binom.cdf(0,n,p)) * 750))\n",
    "\n",
    "# atmost 2 girls\n",
    "print(round(st.binom.cdf(2,n,p) * 750))\n",
    "\n",
    "# and children of both sexes\n",
    "n1 = 2 ; p1 = 0.5\n",
    "print(round(st.binom.pmf(1,n1,p1) * 750) + st.binom.pmf(2,n1,p1) * 750)\n"
   ]
  },
  {
   "cell_type": "markdown",
   "metadata": {},
   "source": [
    "------------------"
   ]
  },
  {
   "cell_type": "markdown",
   "metadata": {},
   "source": [
    "**Import the titanic csv file, and prove whether Fare is normally distributed or not?**\n",
    "\n",
    "### NOTE: Only graphical representation is not enough.\n",
    "\n",
    "**JUST GIVE THE CONFIDENCE INTERVAL FOR THAT VALUES.**"
   ]
  },
  {
   "cell_type": "code",
   "execution_count": 14,
   "metadata": {},
   "outputs": [],
   "source": [
    "df = pd.read_csv('titanic.csv')"
   ]
  },
  {
   "cell_type": "code",
   "execution_count": 15,
   "metadata": {
    "scrolled": false
   },
   "outputs": [
    {
     "data": {
      "text/html": [
       "<div>\n",
       "<style scoped>\n",
       "    .dataframe tbody tr th:only-of-type {\n",
       "        vertical-align: middle;\n",
       "    }\n",
       "\n",
       "    .dataframe tbody tr th {\n",
       "        vertical-align: top;\n",
       "    }\n",
       "\n",
       "    .dataframe thead th {\n",
       "        text-align: right;\n",
       "    }\n",
       "</style>\n",
       "<table border=\"1\" class=\"dataframe\">\n",
       "  <thead>\n",
       "    <tr style=\"text-align: right;\">\n",
       "      <th></th>\n",
       "      <th>PassengerId</th>\n",
       "      <th>Survived</th>\n",
       "      <th>Pclass</th>\n",
       "      <th>Name</th>\n",
       "      <th>Sex</th>\n",
       "      <th>Age</th>\n",
       "      <th>SibSp</th>\n",
       "      <th>Parch</th>\n",
       "      <th>Ticket</th>\n",
       "      <th>Fare</th>\n",
       "      <th>Cabin</th>\n",
       "      <th>Embarked</th>\n",
       "    </tr>\n",
       "  </thead>\n",
       "  <tbody>\n",
       "    <tr>\n",
       "      <th>0</th>\n",
       "      <td>1</td>\n",
       "      <td>0</td>\n",
       "      <td>3</td>\n",
       "      <td>Braund, Mr. Owen Harris</td>\n",
       "      <td>male</td>\n",
       "      <td>22.0</td>\n",
       "      <td>1</td>\n",
       "      <td>0</td>\n",
       "      <td>A/5 21171</td>\n",
       "      <td>7.2500</td>\n",
       "      <td>NaN</td>\n",
       "      <td>S</td>\n",
       "    </tr>\n",
       "    <tr>\n",
       "      <th>1</th>\n",
       "      <td>2</td>\n",
       "      <td>1</td>\n",
       "      <td>1</td>\n",
       "      <td>Cumings, Mrs. John Bradley (Florence Briggs Th...</td>\n",
       "      <td>female</td>\n",
       "      <td>38.0</td>\n",
       "      <td>1</td>\n",
       "      <td>0</td>\n",
       "      <td>PC 17599</td>\n",
       "      <td>71.2833</td>\n",
       "      <td>C85</td>\n",
       "      <td>C</td>\n",
       "    </tr>\n",
       "  </tbody>\n",
       "</table>\n",
       "</div>"
      ],
      "text/plain": [
       "   PassengerId  Survived  Pclass  \\\n",
       "0            1         0       3   \n",
       "1            2         1       1   \n",
       "\n",
       "                                                Name     Sex   Age  SibSp  \\\n",
       "0                            Braund, Mr. Owen Harris    male  22.0      1   \n",
       "1  Cumings, Mrs. John Bradley (Florence Briggs Th...  female  38.0      1   \n",
       "\n",
       "   Parch     Ticket     Fare Cabin Embarked  \n",
       "0      0  A/5 21171   7.2500   NaN        S  \n",
       "1      0   PC 17599  71.2833   C85        C  "
      ]
     },
     "execution_count": 15,
     "metadata": {},
     "output_type": "execute_result"
    }
   ],
   "source": [
    "df.head(2)"
   ]
  },
  {
   "cell_type": "code",
   "execution_count": 16,
   "metadata": {},
   "outputs": [
    {
     "name": "stdout",
     "output_type": "stream",
     "text": [
      "32.204207968574636 49.6655344447741\n",
      "0.682689492137086\n",
      "0.9544997361036416\n",
      "0.9973002039367398\n"
     ]
    },
    {
     "data": {
      "image/png": "[encoded data removed]",
      "text/plain": [
       "<Figure size 432x288 with 1 Axes>"
      ]
     },
     "metadata": {
      "needs_background": "light"
     },
     "output_type": "display_data"
    }
   ],
   "source": [
    "#a = [1,2,3,4,23]\n",
    "a = df.Fare.values\n",
    "m,s = np.mean(a) , np.std(a)\n",
    "print(m,s)\n",
    "\n",
    "z1 = m+s ; z2 = m-s\n",
    "\n",
    "z11 = m+2*s ; z22 = m-2*s\n",
    "\n",
    "z111 = m+3*s ; z222 = m-3*s\n",
    "\n",
    "print(st.norm.cdf(z1, m, s) - st.norm.cdf(z2, m, s))\n",
    "print(st.norm.cdf(z11, m, s) - st.norm.cdf(z22, m, s))\n",
    "print(st.norm.cdf(z111, m, s) - st.norm.cdf(z222, m, s))\n",
    "\n",
    "sns.distplot(a)\n",
    "plt.show()"
   ]
  },
  {
   "cell_type": "markdown",
   "metadata": {},
   "source": [
    "The data Fare is normally distributed."
   ]
  },
  {
   "cell_type": "code",
   "execution_count": 17,
   "metadata": {},
   "outputs": [
    {
     "data": {
      "text/plain": [
       "(30.244243984034583, 34.16417195311469)"
      ]
     },
     "execution_count": 17,
     "metadata": {},
     "output_type": "execute_result"
    }
   ],
   "source": [
    "st.norm.interval(0.95, m)"
   ]
  },
  {
   "cell_type": "code",
   "execution_count": 18,
   "metadata": {
    "scrolled": true
   },
   "outputs": [
    {
     "data": {
      "text/plain": [
       "(30.244243984034583, 34.16417195311469)"
      ]
     },
     "execution_count": 18,
     "metadata": {},
     "output_type": "execute_result"
    }
   ],
   "source": [
    "m - st.norm.isf(0.025) , m + st.norm.isf(0.025) "
   ]
  },
  {
   "cell_type": "markdown",
   "metadata": {},
   "source": [
    "## OR"
   ]
  },
  {
   "cell_type": "code",
   "execution_count": 19,
   "metadata": {},
   "outputs": [
    {
     "data": {
      "text/plain": [
       "(0.5218914747238159, 1.0789998175301091e-43)"
      ]
     },
     "execution_count": 19,
     "metadata": {},
     "output_type": "execute_result"
    }
   ],
   "source": [
    "st.shapiro(df.Fare.values)"
   ]
  },
  {
   "cell_type": "code",
   "execution_count": null,
   "metadata": {},
   "outputs": [],
   "source": []
  },
  {
   "cell_type": "code",
   "execution_count": null,
   "metadata": {},
   "outputs": [],
   "source": []
  },
  {
   "cell_type": "markdown",
   "metadata": {},
   "source": [
    "-----------------------"
   ]
  },
  {
   "cell_type": "markdown",
   "metadata": {},
   "source": [
    "### Dr. Raza wanted to estimate the mean cholesterol level for all the adults living in Bradford England. He took a sample of 25 men & found the mean cholesterol level is 186mg/dl with SD of 12 units. Construct the 95% CF Level Interval Estimate for Pop Mean."
   ]
  },
  {
   "cell_type": "code",
   "execution_count": 20,
   "metadata": {},
   "outputs": [
    {
     "data": {
      "text/plain": [
       "(181.04664345209275, 190.95335654790725)"
      ]
     },
     "execution_count": 20,
     "metadata": {},
     "output_type": "execute_result"
    }
   ],
   "source": [
    "# Given:\n",
    "xbar = 186 ; s = 12 ; alpha = 0.95 ; n = 25\n",
    "se = s/np.sqrt(n)\n",
    "\n",
    "st.t.interval(alpha, n-1, xbar, se)"
   ]
  },
  {
   "cell_type": "markdown",
   "metadata": {},
   "source": [
    "---------------"
   ]
  },
  {
   "cell_type": "markdown",
   "metadata": {},
   "source": [
    "### Take some sample of the Fare of the same data set you used before. Construct the Confidence Interval for Fare."
   ]
  },
  {
   "cell_type": "code",
   "execution_count": 21,
   "metadata": {
    "scrolled": true
   },
   "outputs": [
    {
     "name": "stdout",
     "output_type": "stream",
     "text": [
      "37.91054999999999 32.2042079685746\n",
      "49.693428597180905\n",
      "8.870138729554036\n",
      "9.072737267482761\n",
      "(11.041951441019872, 46.958048558980124)\n",
      "(10.631780361059171, 47.36821963894083)\n"
     ]
    }
   ],
   "source": [
    "sampledata = df.sample(30)\n",
    "xbar = sampledata.Fare.mean()\n",
    "print(xbar, df.Fare.mean())\n",
    "\n",
    "# Discriptive Statistics:\n",
    "S = df.Fare.std()\n",
    "print(S)\n",
    "\n",
    "SE = st.sem(sampledata.Fare.values)\n",
    "print(SE) # OR\n",
    "\n",
    "SE1 = S/np.sqrt(30)\n",
    "print(SE1)\n",
    "\n",
    "print(st.t.interval(0.95, xbar, 29, SE)) # OR\n",
    "print(st.t.interval(0.95, xbar, 29, SE1))"
   ]
  },
  {
   "cell_type": "markdown",
   "metadata": {},
   "source": [
    "-----------------------"
   ]
  },
  {
   "cell_type": "markdown",
   "metadata": {},
   "source": [
    "### In the population, the average IQ is 100 with a standard deviation of 15. A team of scientists want to test a new medication to see if it has either a positive or negative effect on intelligence, or not effect at all. A sample of 30 participants who have taken the medication  has a mean of 140. Did the medication affect intelligence?"
   ]
  },
  {
   "cell_type": "code",
   "execution_count": 22,
   "metadata": {},
   "outputs": [],
   "source": [
    "# Given:\n",
    "mean = 100 ; sigma = 13 ; n = 30 ; xbar = 140 ; alpha = 0.95"
   ]
  },
  {
   "cell_type": "code",
   "execution_count": null,
   "metadata": {},
   "outputs": [],
   "source": [
    "# Hypothesis:\n",
    "H0: mean = 100 Medication did not affect the intelligence\n",
    "H1: mean != 100 Medication affected the intelligence"
   ]
  },
  {
   "cell_type": "code",
   "execution_count": 24,
   "metadata": {},
   "outputs": [
    {
     "name": "stdout",
     "output_type": "stream",
     "text": [
      "1.959963984540054 16.853001769389728\n",
      "\n",
      "We reject our null hypothesis.\n",
      "Medication affected the intelligence\n"
     ]
    }
   ],
   "source": [
    "zcrit = st.norm.ppf(0.975)\n",
    "\n",
    "SE = sigma/np.sqrt(n)\n",
    "\n",
    "Zstat = (xbar - mean) / SE\n",
    "\n",
    "print(zcrit , Zstat)\n",
    "\n",
    "if zcrit > Zstat:\n",
    "    print('We failed to reject our null hypothesis.')\n",
    "    print('Medication did not affect the intelligence')\n",
    "else:\n",
    "    print('\\nWe reject our null hypothesis.')\n",
    "    print('Medication affected the intelligence')"
   ]
  },
  {
   "cell_type": "markdown",
   "metadata": {},
   "source": [
    "-------------------"
   ]
  },
  {
   "cell_type": "markdown",
   "metadata": {},
   "source": [
    "### In a packaging plant, a machine packs cartons with jars. It is supposed that a new machine would pack faster on the average than the machine currently used. To test the hypothesis, the time it takes each machine to pack ten carons are recorded. The result in seconds is as follows.\n",
    "\n",
    "New Machine = [ 42.1,41, 41.3, 41.8,42.4, 42.8, 43.2, 42.3, 41.8,42.7]\n",
    "\n",
    "Old Machine = [42.7 ,43.6, 43.8, 43.3, 42.5, 43.5, 43.1, 41.7, 44,44.1]\n",
    "\n",
    "### Do the data provide sufficient evidence to conclude that, on the average, the new machine packs faster? Perform  the required hypothesis test at the 5% level of significance."
   ]
  },
  {
   "cell_type": "code",
   "execution_count": null,
   "metadata": {},
   "outputs": [],
   "source": [
    "# Hypothesis:\n",
    "H0: New Machine does not pack faster\n",
    "H1: New Machine is quite good"
   ]
  },
  {
   "cell_type": "code",
   "execution_count": 25,
   "metadata": {
    "scrolled": true
   },
   "outputs": [
    {
     "name": "stdout",
     "output_type": "stream",
     "text": [
      "3.0614273841115853 0.013540335651632492\n",
      "\n",
      "We fail our null hypothesis.\n",
      "New Machine is quite good.\n"
     ]
    }
   ],
   "source": [
    "New_Machine = [42.1, 41, 41.3, 41.8, 42.4, 42.8, 43.2, 42.3, 41.8, 42.7]\n",
    "Old_Machine = [42.7, 43.6, 43.8, 43.3, 42.5, 43.5, 43.1, 41.7, 44, 44.1]\n",
    "\n",
    "static, pvalue = st.ttest_rel(Old_Machine, New_Machine)\n",
    "print(static, pvalue)\n",
    "\n",
    "if pvalue > 0.05:\n",
    "    print('\\nWe are failed to reject our null hypothesis.')\n",
    "    print('New Machine does not pack faster')\n",
    "else:\n",
    "    print('\\nWe fail our null hypothesis.')\n",
    "    print('New Machine is quite good.')"
   ]
  },
  {
   "cell_type": "markdown",
   "metadata": {},
   "source": [
    "-----------------"
   ]
  },
  {
   "cell_type": "markdown",
   "metadata": {},
   "source": [
    "#### We want to compare the heights in inches of two groups of individuals. Here are the measurements:\n",
    "    \n",
    "X: 175, 168, 168, 190, 156, 181, 182, 175, 174, 179\n",
    "    \n",
    "Y:  120, 180, 125, 188, 130, 190, 110, 185, 112, 188"
   ]
  },
  {
   "cell_type": "code",
   "execution_count": null,
   "metadata": {},
   "outputs": [],
   "source": [
    "# Hypothesis:\n",
    "H0: Mean is relavent\n",
    "H1: Mean is irrelavent"
   ]
  },
  {
   "cell_type": "code",
   "execution_count": 26,
   "metadata": {},
   "outputs": [
    {
     "name": "stdout",
     "output_type": "stream",
     "text": [
      "1.8827043647441972 0.0760065554370283\n",
      "\n",
      "We are failed to reject our null hypothesis.\n",
      "Mean is relavent\n"
     ]
    }
   ],
   "source": [
    "X= [ 175, 168, 168, 190, 156, 181, 182, 175, 174, 179]\n",
    "Y= [120, 180, 125, 188, 130, 190, 110, 185, 112, 188]\n",
    "\n",
    "stat, pvalue = st.ttest_ind(X,Y)\n",
    "print(stat, pvalue)\n",
    "\n",
    "if pvalue > 0.05:\n",
    "    print('\\nWe are failed to reject our null hypothesis.')\n",
    "    print('Mean is relavent')\n",
    "else:\n",
    "    print('\\nWe failed our null hypothesis.')\n",
    "    print('Mean is not relavent')\n",
    "    \n"
   ]
  },
  {
   "cell_type": "markdown",
   "metadata": {},
   "source": [
    "-------------"
   ]
  },
  {
   "cell_type": "markdown",
   "metadata": {},
   "source": [
    "#### A study was performed to test wether cars get better mileage on premium gas than on regular gas. Each of 10 cars was first filled with regular or premium gas, decided by a coin toss, and the mileage for the tank was recorded. The mileage was recorded again for the same cars using other kind of gasoline.\n",
    "##### Determine wether cars get significantly better mileage with premium gas.\n",
    "\n",
    "Mileage with regular gas: 16,20,21,22,23,22,27,25,27,28 \n",
    "    \n",
    "Mileage with premium gas: 19, 22,24,24,25,25,26,26,28,32"
   ]
  },
  {
   "cell_type": "code",
   "execution_count": null,
   "metadata": {},
   "outputs": [],
   "source": [
    "# Hypothesis:\n",
    "H0: cars did not get significantly better mileage with premium gas\n",
    "H1: cars get significantly better mileage with premium gas"
   ]
  },
  {
   "cell_type": "code",
   "execution_count": 27,
   "metadata": {
    "scrolled": true
   },
   "outputs": [
    {
     "name": "stdout",
     "output_type": "stream",
     "text": [
      "-4.47213595499958 0.00154988591170182\n",
      "\n",
      "We reject our null hypothesis.\n",
      "cars get significantly better mileage with premium gas\n"
     ]
    }
   ],
   "source": [
    "Mileage_with_regular_gas = [16,20,21,22,23,22,27,25,27,28]\n",
    "Mileage_with_premium_gas = [19, 22,24,24,25,25,26,26,28,32]\n",
    "\n",
    "stat, pvalue = st.ttest_rel(Mileage_with_regular_gas, Mileage_with_premium_gas)\n",
    "print(stat, pvalue)\n",
    "\n",
    "if pvalue > 0.05:\n",
    "    print('\\nWe are failed to reject our null hypothesis.')\n",
    "    print('cars did not get significantly better mileage with premium gas.')\n",
    "else:\n",
    "    print('\\nWe reject our null hypothesis.')\n",
    "    print('cars get significantly better mileage with premium gas')"
   ]
  },
  {
   "cell_type": "markdown",
   "metadata": {},
   "source": [
    "--------------------"
   ]
  },
  {
   "cell_type": "markdown",
   "metadata": {},
   "source": [
    "### Sussan Sound predicts that students will learn most effectively with a constant background sound, as opposed to an unpredictable sound or no sound at all. She randomly divides 24 students into three groups of 8 each. All students study a passage of text for 30 minutes. Those in group 1 study with background sound at a constant volume in the background. Those in group 2 study with nose that changes volume periodically. Those in group 3 study with no sound at all. After studying, all students take a 10 point multiple choice test over the material. Their scores are tabulated below.\n",
    "\n",
    "Group1: Constant sound: 7,4,6,8,6,6,2,9\n",
    "        \n",
    "Group 2: Random sound: 5,5,3,4,4,7,2,2\n",
    "        \n",
    "Group 3: No sound at all: 2,4,7,1,2,1,5,5"
   ]
  },
  {
   "cell_type": "code",
   "execution_count": null,
   "metadata": {},
   "outputs": [],
   "source": [
    "# Hypothesis:\n",
    "H0: Sounds did not affect students\n",
    "H1: Sound affected their studies"
   ]
  },
  {
   "cell_type": "code",
   "execution_count": 28,
   "metadata": {},
   "outputs": [
    {
     "name": "stdout",
     "output_type": "stream",
     "text": [
      "3.594594594594595 0.04543970036605765\n",
      "\n",
      "We fail our null hypothesis.\n",
      "Sound affected their studies\n"
     ]
    }
   ],
   "source": [
    "Constant_sound = [7,4,6,8,6,6,2,9]\n",
    "Random_sound = [5,5,3,4,4,7,2,2]\n",
    "No_sound = [2,4,7,1,2,1,5,5]\n",
    "\n",
    "stat, pvalue = st.f_oneway(Constant_sound, Random_sound, No_sound )\n",
    "print(stat, pvalue)\n",
    "\n",
    "if pvalue > 0.05:\n",
    "    print('\\nWe reject to fail our null hypothesis.')\n",
    "    print('Sounds did not affect students')\n",
    "else:\n",
    "    print('\\nWe fail our null hypothesis.')\n",
    "    print('Sound affected their studies')"
   ]
  },
  {
   "cell_type": "markdown",
   "metadata": {},
   "source": [
    "-----------------"
   ]
  },
  {
   "cell_type": "markdown",
   "metadata": {},
   "source": [
    "### A random sample 500 U.S adults are questioned about their political affiliation and opinion on a tax reform bill. We need to test if the political affiliation and their opinon on a tax reform bill are dependent, at 5% level of significance. The observed contingency table is given below."
   ]
  },
  {
   "cell_type": "markdown",
   "metadata": {},
   "source": [
    "#### Data given:"
   ]
  },
  {
   "cell_type": "code",
   "execution_count": 29,
   "metadata": {
    "scrolled": false
   },
   "outputs": [
    {
     "data": {
      "text/html": [
       "<div>\n",
       "<style scoped>\n",
       "    .dataframe tbody tr th:only-of-type {\n",
       "        vertical-align: middle;\n",
       "    }\n",
       "\n",
       "    .dataframe tbody tr th {\n",
       "        vertical-align: top;\n",
       "    }\n",
       "\n",
       "    .dataframe thead th {\n",
       "        text-align: right;\n",
       "    }\n",
       "</style>\n",
       "<table border=\"1\" class=\"dataframe\">\n",
       "  <thead>\n",
       "    <tr style=\"text-align: right;\">\n",
       "      <th></th>\n",
       "      <th>favor</th>\n",
       "      <th>indifferent</th>\n",
       "      <th>opposed</th>\n",
       "      <th>total</th>\n",
       "    </tr>\n",
       "    <tr>\n",
       "      <th>Unnamed: 0</th>\n",
       "      <th></th>\n",
       "      <th></th>\n",
       "      <th></th>\n",
       "      <th></th>\n",
       "    </tr>\n",
       "  </thead>\n",
       "  <tbody>\n",
       "    <tr>\n",
       "      <th>democrat</th>\n",
       "      <td>138</td>\n",
       "      <td>83</td>\n",
       "      <td>64</td>\n",
       "      <td>285</td>\n",
       "    </tr>\n",
       "    <tr>\n",
       "      <th>republican</th>\n",
       "      <td>64</td>\n",
       "      <td>67</td>\n",
       "      <td>84</td>\n",
       "      <td>215</td>\n",
       "    </tr>\n",
       "    <tr>\n",
       "      <th>total</th>\n",
       "      <td>202</td>\n",
       "      <td>150</td>\n",
       "      <td>148</td>\n",
       "      <td>500</td>\n",
       "    </tr>\n",
       "  </tbody>\n",
       "</table>\n",
       "</div>"
      ],
      "text/plain": [
       "            favor  indifferent  opposed  total\n",
       "Unnamed: 0                                    \n",
       "democrat      138           83       64    285\n",
       "republican     64           67       84    215\n",
       "total         202          150      148    500"
      ]
     },
     "execution_count": 29,
     "metadata": {},
     "output_type": "execute_result"
    }
   ],
   "source": [
    "df = pd.read_excel('Book.xlsx')\n",
    "df.set_index('Unnamed: 0', inplace=True)\n",
    "df"
   ]
  },
  {
   "cell_type": "code",
   "execution_count": null,
   "metadata": {},
   "outputs": [],
   "source": [
    "# Hypothesis:\n",
    "H0: The political affiliation and their opinon on a tax reform bill are dependent\n",
    "H1: Null hypothesis is not True"
   ]
  },
  {
   "cell_type": "code",
   "execution_count": 30,
   "metadata": {},
   "outputs": [
    {
     "name": "stdout",
     "output_type": "stream",
     "text": [
      "22.152468645918482 0.0011361964631160474 6 [[115.14  85.5   84.36 285.  ]\n",
      " [ 86.86  64.5   63.64 215.  ]\n",
      " [202.   150.   148.   500.  ]]\n",
      "\n",
      "The political affiliation and their opinon on a tax reform bill are independent.\n"
     ]
    }
   ],
   "source": [
    "df = pd.read_excel('Book.xlsx')\n",
    "df.set_index('Unnamed: 0', inplace=True)\n",
    "\n",
    "teststats, pvalue, df, exp_freq = st.chi2_contingency(df)\n",
    "print(teststats, pvalue, df, exp_freq)\n",
    "\n",
    "if pvalue > 0.05:\n",
    "    print('\\nThe political affiliation and their opinon on a tax reform bill are dependent.')\n",
    "else:\n",
    "    print('\\nThe political affiliation and their opinon on a tax reform bill are independent.')"
   ]
  },
  {
   "cell_type": "markdown",
   "metadata": {},
   "source": [
    "-----------------"
   ]
  },
  {
   "cell_type": "markdown",
   "metadata": {},
   "source": [
    "### Suppose the media reports that 40% of college students get paid internships for the summer. You believe the actual percentage is higher than that. You randomly sample 100 students and find 45 of them got a paid internship. What do you conclude about the media report? Which method should be used? Why?"
   ]
  },
  {
   "cell_type": "code",
   "execution_count": 31,
   "metadata": {},
   "outputs": [],
   "source": [
    "# Given:\n",
    "p = 0.4 # Population proportion\n",
    "n = 100\n",
    "x = 45 # No of success is 'x' \n",
    "alpha = 0.05"
   ]
  },
  {
   "cell_type": "markdown",
   "metadata": {},
   "source": [
    "#### Here we are about to deal with hypothesis technique to estimate the relation of actual internship.\n",
    "\n",
    "#### According to the statement of good confidence we approach it for right tail test."
   ]
  },
  {
   "cell_type": "code",
   "execution_count": null,
   "metadata": {},
   "outputs": [],
   "source": [
    "# Hypothesis:\n",
    "H0: p <= 0.4\n",
    "H1: p > 0.4"
   ]
  },
  {
   "cell_type": "markdown",
   "metadata": {},
   "source": [
    "### We are going to solve with following equation:"
   ]
  },
  {
   "cell_type": "code",
   "execution_count": 32,
   "metadata": {},
   "outputs": [
    {
     "data": {
      "image/jpeg": "[encoded data removed]",
      "text/plain": [
       "<IPython.core.display.Image object>"
      ]
     },
     "execution_count": 32,
     "metadata": {},
     "output_type": "execute_result"
    }
   ],
   "source": [
    "from IPython.display import Image\n",
    "Image(\"C:/Users/hi/Pictures/Screenshots/My_phts/OIP.jpg\")"
   ]
  },
  {
   "cell_type": "code",
   "execution_count": 33,
   "metadata": {
    "scrolled": true
   },
   "outputs": [
    {
     "name": "stdout",
     "output_type": "stream",
     "text": [
      "1.6448536269514729\n",
      "1.0206207261596574\n",
      "\n",
      "We are failed to reject null hypothesis.\n",
      "Student internship is across 45%.\n"
     ]
    }
   ],
   "source": [
    "zcrit = st.norm.isf(0.05)\n",
    "print(zcrit)\n",
    "\n",
    "# Proportion:\n",
    "p1 = x/n \n",
    "q = 1 - p\n",
    "\n",
    "zstat = (p1 - p) / np.sqrt(p*q/n)\n",
    "print(zstat)\n",
    "\n",
    "if zcrit > zstat :\n",
    "    print('\\nWe are failed to reject null hypothesis.')\n",
    "    print('Student internship is across 45%.')\n",
    "else:\n",
    "    print('\\nWe reject our null hypothesis.')\n",
    "    print('Student internship is about our expectations.')"
   ]
  },
  {
   "cell_type": "markdown",
   "metadata": {},
   "source": [
    "------------------"
   ]
  },
  {
   "cell_type": "markdown",
   "metadata": {},
   "source": [
    "### The height of students is normally distributed with mean 67 inches and standard deviation 2 inches. Monica records the heights for 16 randomly chosen students. There is 80% chance that any random sample of height of 16 students will have a sample mean less than Monica's sample mean. Compute Monica's sample mean using this information. (Hint: Start with the distribution of sample mean for a random sample of 16 students)"
   ]
  },
  {
   "cell_type": "code",
   "execution_count": null,
   "metadata": {},
   "outputs": [],
   "source": [
    "# Hypothesis:\n",
    "H0: sample_mean >= Monica sample mean\n",
    "H1: sample_mean < Moonica sample mean"
   ]
  },
  {
   "cell_type": "code",
   "execution_count": 34,
   "metadata": {},
   "outputs": [],
   "source": [
    "# Given:\n",
    "mean = 67 ; sigma = 2 ; n = 16 ; p1 = 0.80 "
   ]
  },
  {
   "cell_type": "code",
   "execution_count": 35,
   "metadata": {
    "scrolled": true
   },
   "outputs": [
    {
     "name": "stdout",
     "output_type": "stream",
     "text": [
      "-1.6448536269514729\n",
      "-108.4\n",
      "\n",
      "We fail our null hypothesis.\n",
      "sample_mean < Monica sample mean\n"
     ]
    }
   ],
   "source": [
    "# calculation for sample mean:\n",
    "# Proportion:\n",
    "# p1 = x/n \n",
    "xbar = n*p1\n",
    "\n",
    "zcrit = st.norm.ppf(0.05)\n",
    "print(zcrit)\n",
    "\n",
    "# Z_stats:\n",
    "std_error=sigma/np.sqrt(n)\n",
    "\n",
    "z_stat=(xbar-mean)/std_error\n",
    "\n",
    "print(z_stat)\n",
    "\n",
    "if zcrit > zstat :\n",
    "    print('\\nWe are failed to reject our null hypothesis.')\n",
    "    print('sample_mean >= Monica sample mean')\n",
    "else:\n",
    "    print('\\nWe fail our null hypothesis.')\n",
    "    print('sample_mean < Monica sample mean')"
   ]
  },
  {
   "cell_type": "markdown",
   "metadata": {},
   "source": [
    "# END"
   ]
  }
 ],
 "metadata": {
  "kernelspec": {
   "display_name": "Python 3",
   "language": "python",
   "name": "python3"
  },
  "language_info": {
   "codemirror_mode": {
    "name": "ipython",
    "version": 3
   },
   "file_extension": ".py",
   "mimetype": "text/x-python",
   "name": "python",
   "nbconvert_exporter": "python",
   "pygments_lexer": "ipython3",
   "version": "3.7.4"
  }
 },
 "nbformat": 4,
 "nbformat_minor": 2
}
